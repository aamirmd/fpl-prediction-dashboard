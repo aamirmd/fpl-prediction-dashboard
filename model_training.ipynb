{
 "cells": [
  {
   "cell_type": "code",
   "execution_count": null,
   "metadata": {
    "executionInfo": {
     "elapsed": 13330,
     "status": "ok",
     "timestamp": 1745358841126,
     "user": {
      "displayName": "tennis mr",
      "userId": "15671705000366569328"
     },
     "user_tz": 240
    },
    "id": "rAzrLJpeSwPV"
   },
   "outputs": [],
   "source": [
    "import pandas as pd\n",
    "import os\n",
    "import numpy as np\n",
    "import wandb\n",
    "\n",
    "# Train model\n",
    "import torch\n",
    "import torch.nn as nn\n",
    "import torch.optim as optim\n",
    "from torch.utils.data import Dataset, DataLoader"
   ]
  },
  {
   "cell_type": "code",
   "execution_count": null,
   "metadata": {
    "colab": {
     "base_uri": "https://localhost:8080/"
    },
    "executionInfo": {
     "elapsed": 8027,
     "status": "ok",
     "timestamp": 1745359188914,
     "user": {
      "displayName": "tennis mr",
      "userId": "15671705000366569328"
     },
     "user_tz": 240
    },
    "id": "fZT6_8Hmzhnz",
    "outputId": "156eeaad-e779-4d11-a37a-e6aa87af3890"
   },
   "outputs": [],
   "source": [
    "!wandb login"
   ]
  },
  {
   "cell_type": "code",
   "execution_count": null,
   "metadata": {
    "colab": {
     "base_uri": "https://localhost:8080/"
    },
    "executionInfo": {
     "elapsed": 21674,
     "status": "ok",
     "timestamp": 1745359215789,
     "user": {
      "displayName": "tennis mr",
      "userId": "15671705000366569328"
     },
     "user_tz": 240
    },
    "id": "qpRg1ppWT6Qj",
    "outputId": "6f36b8b3-ba34-4230-e211-22c2e9b76f80"
   },
   "outputs": [],
   "source": [
    "# from google.colab import drive\n",
    "# import os\n",
    "\n",
    "# # 1. Mounting Google Drive: This allows Colab to access files in your Google Drive\n",
    "# drive.mount('/content/drive')"
   ]
  },
  {
   "cell_type": "code",
   "execution_count": null,
   "metadata": {
    "executionInfo": {
     "elapsed": 2514,
     "status": "ok",
     "timestamp": 1745359221291,
     "user": {
      "displayName": "tennis mr",
      "userId": "15671705000366569328"
     },
     "user_tz": 240
    },
    "id": "BqzvjiPaTqvq"
   },
   "outputs": [],
   "source": [
    "df21 = pd.read_csv('data/train/merged_gw_2021_22.csv')\n",
    "df22 = pd.read_csv('data/train/merged_gw_2022_23.csv')\n",
    "df23 = pd.read_csv('data/train/merged_gw_2023_24.csv')"
   ]
  },
  {
   "cell_type": "code",
   "execution_count": null,
   "metadata": {
    "id": "yj41PeSEUqeo"
   },
   "outputs": [],
   "source": [
    "df23.columns"
   ]
  },
  {
   "cell_type": "markdown",
   "metadata": {
    "id": "dKe5zQgoXTKC"
   },
   "source": [
    "Columns to drop: Name, team, position, element, fixture, kickoff time (tbd), opponent team, round, transfer_balance\n",
    "\n",
    "\n",
    "Target data: total_points of next gameweek\n",
    "\n",
    "preprocessing steps:\n",
    "- Change was_home to 0/1"
   ]
  },
  {
   "cell_type": "markdown",
   "metadata": {
    "id": "R0vjatE5Vb1k"
   },
   "source": [
    "# Quick and dirty baseline model"
   ]
  },
  {
   "cell_type": "markdown",
   "metadata": {
    "id": "VRj48HLChH-C"
   },
   "source": [
    "Initial preprocessing steps:\n",
    "\n",
    "- Drop any unnecessary columns\n",
    "- Specify total points for next gameweek as ground truth"
   ]
  },
  {
   "cell_type": "code",
   "execution_count": null,
   "metadata": {
    "colab": {
     "base_uri": "https://localhost:8080/",
     "height": 444
    },
    "executionInfo": {
     "elapsed": 72,
     "status": "ok",
     "timestamp": 1745359293798,
     "user": {
      "displayName": "tennis mr",
      "userId": "15671705000366569328"
     },
     "user_tz": 240
    },
    "id": "N6LZLx3IVpb7",
    "outputId": "aaf7df1a-7aa6-4605-a4d6-9dff2a39dc13"
   },
   "outputs": [],
   "source": [
    "# Dropping unnecessary columns\n",
    "train_df = df21.drop([\"name\", \"team\", \"position\", \"fixture\", \"kickoff_time\", \"opponent_team\", \"round\", \"transfers_balance\"], axis=1)\n",
    "\n",
    "# Create a column for ground truth\n",
    "ground_truth = df21.loc[:, [\"element\", \"total_points\", \"GW\"]]\n",
    "\n",
    "# total points for GW 2 becomes the ground truth for GW 1\n",
    "ground_truth['GW'] -= 1\n",
    "ground_truth = ground_truth.rename(columns={\"total_points\":\"y\"})\n",
    "\n",
    "# inner join with train df\n",
    "train_df = train_df.merge(ground_truth, how=\"inner\", on=[\"element\", \"GW\"])\n",
    "\n",
    "# Dropping 'element' and 'gw' columns as they are no longer needed\n",
    "train_df = train_df.drop([\"element\", \"GW\"], axis=1)\n",
    "train_df"
   ]
  },
  {
   "cell_type": "code",
   "execution_count": null,
   "metadata": {
    "colab": {
     "base_uri": "https://localhost:8080/",
     "height": 444
    },
    "executionInfo": {
     "elapsed": 38,
     "status": "ok",
     "timestamp": 1745359299578,
     "user": {
      "displayName": "tennis mr",
      "userId": "15671705000366569328"
     },
     "user_tz": 240
    },
    "id": "EdxEto1PUDkc",
    "outputId": "91decde9-ad3d-442f-e2f8-caf5633b0368"
   },
   "outputs": [],
   "source": [
    "#Pre-processing\n",
    "train_df = train_df.astype(np.float32)\n",
    "train_df"
   ]
  },
  {
   "cell_type": "code",
   "execution_count": null,
   "metadata": {
    "executionInfo": {
     "elapsed": 10,
     "status": "ok",
     "timestamp": 1745359715915,
     "user": {
      "displayName": "tennis mr",
      "userId": "15671705000366569328"
     },
     "user_tz": 240
    },
    "id": "-ccawROucQfq"
   },
   "outputs": [],
   "source": [
    "class FplDataset(Dataset):\n",
    "    def __init__(self, inputs, targets):\n",
    "        self.inputs = inputs\n",
    "        self.targets = targets\n",
    "\n",
    "    def __len__(self):\n",
    "        return len(self.inputs)\n",
    "\n",
    "    def __getitem__(self, idx):\n",
    "        return torch.tensor(self.inputs[idx], dtype=torch.float32), torch.tensor(self.targets[idx], dtype=torch.float32)\n",
    "\n",
    "# Convert data to PyTorch Dataset and DataLoader\n",
    "inputs = train_df.drop('y', axis=1).to_numpy()\n",
    "num_features = inputs.shape[1]\n",
    "targets = train_df.loc[:,\"y\"].to_numpy().reshape(-1,1)\n",
    "dataset = FplDataset(inputs, targets)\n",
    "dataloader = DataLoader(dataset, batch_size=16, shuffle=True)"
   ]
  },
  {
   "cell_type": "code",
   "execution_count": null,
   "metadata": {
    "executionInfo": {
     "elapsed": 4779,
     "status": "ok",
     "timestamp": 1745359331698,
     "user": {
      "displayName": "tennis mr",
      "userId": "15671705000366569328"
     },
     "user_tz": 240
    },
    "id": "YmTcQwDcdk9f"
   },
   "outputs": [],
   "source": [
    "# Define a simple model as a baseline\n",
    "class SimpleModel(nn.Module):\n",
    "    def __init__(self, num_features):\n",
    "        super(SimpleModel, self).__init__()\n",
    "        self.layer1 = nn.Linear(num_features, 64)  # 64 output units\n",
    "        self.layer2 = nn.Linear(64, 1)   # 64 input units, 1 output value\n",
    "\n",
    "    def forward(self, x):\n",
    "        x = torch.relu(self.layer1(x))  # Apply ReLU activation after first layer\n",
    "        x = self.layer2(x)              # Output layer\n",
    "        return x\n",
    "\n",
    "# Initialize the model, loss function, and optimizer\n",
    "model = SimpleModel(num_features)\n",
    "criterion = nn.MSELoss()  # Mean Squared Error loss for regression task\n",
    "optimizer = optim.Adam(model.parameters(), lr=0.001)"
   ]
  },
  {
   "cell_type": "code",
   "execution_count": null,
   "metadata": {
    "colab": {
     "base_uri": "https://localhost:8080/"
    },
    "executionInfo": {
     "elapsed": 8,
     "status": "ok",
     "timestamp": 1745360965871,
     "user": {
      "displayName": "tennis mr",
      "userId": "15671705000366569328"
     },
     "user_tz": 240
    },
    "id": "UNWuzZshnrlb",
    "outputId": "4a368fbc-f513-4205-fb4a-9799891ed80b"
   },
   "outputs": [],
   "source": [
    "model"
   ]
  },
  {
   "cell_type": "code",
   "execution_count": null,
   "metadata": {
    "colab": {
     "base_uri": "https://localhost:8080/",
     "height": 579
    },
    "executionInfo": {
     "elapsed": 2297,
     "status": "ok",
     "timestamp": 1745359644484,
     "user": {
      "displayName": "tennis mr",
      "userId": "15671705000366569328"
     },
     "user_tz": 240
    },
    "id": "MaL9uasVhxlI",
    "outputId": "b1152871-e501-4d07-f408-5ec8fedcecc1"
   },
   "outputs": [],
   "source": [
    "# 1. Initialize wandb\n",
    "wandb.init(project=\"cs6365-fpl-model\", config={\n",
    "    \"epochs\": 10,\n",
    "    \"batch_size\": dataloader.batch_size if hasattr(dataloader, 'batch_size') else 'unknown',\n",
    "    \"learning_rate\": optimizer.param_groups[0]['lr'],\n",
    "    \"loss_fn\": criterion.__class__.__name__,\n",
    "    \"model\": model.__class__.__name__,\n",
    "})"
   ]
  },
  {
   "cell_type": "code",
   "execution_count": null,
   "metadata": {
    "colab": {
     "base_uri": "https://localhost:8080/",
     "height": 535
    },
    "executionInfo": {
     "elapsed": 21452,
     "status": "ok",
     "timestamp": 1745359741801,
     "user": {
      "displayName": "tennis mr",
      "userId": "15671705000366569328"
     },
     "user_tz": 240
    },
    "id": "z3cyv4R3eJrs",
    "outputId": "d2500568-7c4f-46dd-f6f8-1a7e125910e3"
   },
   "outputs": [],
   "source": [
    "# Training loop\n",
    "num_epochs = wandb.config.epochs\n",
    "model.train()  # Set model to training mode\n",
    "for epoch in range(num_epochs):\n",
    "    running_loss = 0.0\n",
    "\n",
    "    for inputs_batch, targets_batch in dataloader:\n",
    "        # Forward pass\n",
    "        outputs = model(inputs_batch)\n",
    "        loss = criterion(outputs, targets_batch)\n",
    "\n",
    "        # Backward pass and optimization\n",
    "        optimizer.zero_grad()\n",
    "        loss.backward()\n",
    "        optimizer.step()\n",
    "\n",
    "        running_loss += loss.item()\n",
    "\n",
    "    avg_loss = running_loss / len(dataloader)\n",
    "    print(f\"Epoch [{epoch+1}/{num_epochs}], Loss: {avg_loss:.4f}\")\n",
    "\n",
    "    # 2. Log metrics\n",
    "    wandb.log({\"epoch\": epoch+1, \"loss\": avg_loss})\n",
    "\n",
    "# 3. (Optional) Save model checkpoint\n",
    "# torch.save(model.state_dict(), \"model.pth\")\n",
    "wandb.save(\"baseline.pth\")\n",
    "\n",
    "# Finish the run\n",
    "wandb.finish()"
   ]
  },
  {
   "cell_type": "code",
   "execution_count": null,
   "metadata": {
    "id": "lhbgrZ_Be-Tw"
   },
   "outputs": [],
   "source": [
    "# Save the trained model\n",
    "torch.save(model.state_dict(), 'models/baseline.pth')"
   ]
  },
  {
   "cell_type": "markdown",
   "metadata": {
    "id": "fB_MIZv4k36r"
   },
   "source": [
    "# Training a better model"
   ]
  },
  {
   "cell_type": "markdown",
   "metadata": {
    "id": "-_3jPMbbos7x"
   },
   "source": [
    "- An additional preprocessing step here is to get the 'is_home' feature from the next gameweek, just like we get the ground truth (total_points), since that is what we need."
   ]
  },
  {
   "cell_type": "code",
   "execution_count": null,
   "metadata": {
    "colab": {
     "base_uri": "https://localhost:8080/",
     "height": 444
    },
    "executionInfo": {
     "elapsed": 41,
     "status": "ok",
     "timestamp": 1745361518792,
     "user": {
      "displayName": "tennis mr",
      "userId": "15671705000366569328"
     },
     "user_tz": 240
    },
    "id": "PFTFSbzjlA7B",
    "outputId": "5dafff11-a226-40ec-c46d-621cb6c6cedb"
   },
   "outputs": [],
   "source": [
    "# Dropping unnecessary columns\n",
    "train_df = df21.drop([\"name\", \"team\", \"position\", \"fixture\", \"kickoff_time\", \"opponent_team\", \"round\", \"transfers_balance\"], axis=1)\n",
    "\n",
    "# Create a column for ground truth\n",
    "ground_truth = df21.loc[:, [\"was_home\", \"total_points\", \"element\", \"GW\"]]\n",
    "\n",
    "# total points for GW 2 becomes the ground truth for GW 1\n",
    "ground_truth['GW'] -= 1\n",
    "ground_truth = ground_truth.rename(columns={\"total_points\":\"y\", \"was_home\":\"is_home\"})\n",
    "\n",
    "# inner join with train df\n",
    "train_df = train_df.merge(ground_truth, how=\"inner\", on=[\"element\", \"GW\"])\n",
    "\n",
    "# Dropping 'element' and 'gw' columns as they are no longer needed\n",
    "train_df = train_df.drop([\"element\", \"GW\"], axis=1)\n",
    "train_df"
   ]
  },
  {
   "cell_type": "markdown",
   "metadata": {
    "id": "W-7rJ4pip6dL"
   },
   "source": [
    "- This step is dropping all columns that are not present in the live API."
   ]
  },
  {
   "cell_type": "code",
   "execution_count": null,
   "metadata": {
    "colab": {
     "base_uri": "https://localhost:8080/",
     "height": 444
    },
    "executionInfo": {
     "elapsed": 43,
     "status": "ok",
     "timestamp": 1745361568540,
     "user": {
      "displayName": "tennis mr",
      "userId": "15671705000366569328"
     },
     "user_tz": 240
    },
    "id": "t_FaD9xmlJ1W",
    "outputId": "0b94ff4b-38ce-420c-b05a-d5814bef5a62"
   },
   "outputs": [],
   "source": [
    "#Pre-processing\n",
    "\n",
    "# Dropping columns not present in API\n",
    "train_df = train_df.drop(['xP', 'selected', 'team_a_score', 'team_h_score', 'value', 'was_home'], axis=1)\n",
    "train_df = train_df.astype(np.float32)\n",
    "train_df"
   ]
  },
  {
   "cell_type": "code",
   "execution_count": null,
   "metadata": {
    "colab": {
     "base_uri": "https://localhost:8080/"
    },
    "executionInfo": {
     "elapsed": 22,
     "status": "ok",
     "timestamp": 1745361595763,
     "user": {
      "displayName": "tennis mr",
      "userId": "15671705000366569328"
     },
     "user_tz": 240
    },
    "id": "FdgBbG7-l6Qw",
    "outputId": "04734da1-f9eb-4c7e-dd63-549edd3ae05b"
   },
   "outputs": [],
   "source": [
    "print(train_df.shape[1])\n",
    "train_df.columns"
   ]
  },
  {
   "cell_type": "code",
   "execution_count": null,
   "metadata": {
    "colab": {
     "base_uri": "https://localhost:8080/"
    },
    "executionInfo": {
     "elapsed": 32,
     "status": "ok",
     "timestamp": 1745361624361,
     "user": {
      "displayName": "tennis mr",
      "userId": "15671705000366569328"
     },
     "user_tz": 240
    },
    "id": "ADsj_TH6mS-Q",
    "outputId": "4babda60-1619-4da1-ca6d-4abf8af86fd4"
   },
   "outputs": [],
   "source": [
    "# Convert data to PyTorch Dataset and DataLoader\n",
    "inputs = train_df.drop('y', axis=1).to_numpy()\n",
    "num_features = inputs.shape[1]\n",
    "print(\"Num features\", num_features)\n",
    "targets = train_df.loc[:,[\"y\"]].to_numpy()\n",
    "dataset = FplDataset(inputs, targets)\n",
    "dataloader = DataLoader(dataset, batch_size=16, shuffle=True)"
   ]
  },
  {
   "cell_type": "code",
   "execution_count": null,
   "metadata": {
    "colab": {
     "base_uri": "https://localhost:8080/"
    },
    "executionInfo": {
     "elapsed": 17,
     "status": "ok",
     "timestamp": 1745363402660,
     "user": {
      "displayName": "tennis mr",
      "userId": "15671705000366569328"
     },
     "user_tz": 240
    },
    "id": "d2nBRS8ww6b0",
    "outputId": "edaddafa-115f-40ce-918d-1857fbda35fe"
   },
   "outputs": [],
   "source": [
    "train_df.drop('y', axis=1).columns"
   ]
  },
  {
   "cell_type": "code",
   "execution_count": null,
   "metadata": {
    "colab": {
     "base_uri": "https://localhost:8080/",
     "height": 104
    },
    "executionInfo": {
     "elapsed": 752,
     "status": "ok",
     "timestamp": 1745361753491,
     "user": {
      "displayName": "tennis mr",
      "userId": "15671705000366569328"
     },
     "user_tz": 240
    },
    "id": "pESpSICs0NrP",
    "outputId": "cf8846e0-911f-4f80-e5c2-26c5e5910b72"
   },
   "outputs": [],
   "source": [
    "# Set experiment hyperparameters\n",
    "num_epochs = 70\n",
    "lr = 5e-6\n",
    "weight_decay = 1e-2\n",
    "num_blocks = 3 # Number of residual blocks in the model\n",
    "\n",
    "# Start a new wandb run to track this script.\n",
    "run = wandb.init(\n",
    "    # Set the wandb entity where your project will be logged (generally your team name).\n",
    "    entity=\"aamirmd-georgia-institute-of-technology\",\n",
    "    # Set the wandb project where this run will be logged.\n",
    "    project=\"cs6365-fpl-model\",\n",
    "    # Track hyperparameters and run metadata.\n",
    "    config={\n",
    "        \"learning_rate\": lr,\n",
    "        \"architecture\": \"ResidualModel\",\n",
    "        \"epochs\": num_epochs,\n",
    "        \"weight_decay\": weight_decay,\n",
    "        \"number of residual blocks\": num_blocks\n",
    "    },\n",
    ")"
   ]
  },
  {
   "cell_type": "code",
   "execution_count": null,
   "metadata": {
    "executionInfo": {
     "elapsed": 2,
     "status": "ok",
     "timestamp": 1745361834608,
     "user": {
      "displayName": "tennis mr",
      "userId": "15671705000366569328"
     },
     "user_tz": 240
    },
    "id": "-PTwHSgxm-hp"
   },
   "outputs": [],
   "source": [
    "class ResidualBlock(nn.Module):\n",
    "    def __init__(self, dim, dropout=0.1):\n",
    "        super().__init__()\n",
    "        self.fc1 = nn.Linear(dim, dim)\n",
    "        self.fc2 = nn.Linear(dim, dim)\n",
    "        self.norm1 = nn.LayerNorm(dim)\n",
    "        self.norm2 = nn.LayerNorm(dim)\n",
    "        self.dropout = nn.Dropout(dropout)\n",
    "        self.activation = nn.LeakyReLU(0.1)\n",
    "\n",
    "    def forward(self, x):\n",
    "        residual = x\n",
    "        out = self.fc1(self.norm1(x))\n",
    "        out = self.activation(out)\n",
    "        out = self.dropout(out)\n",
    "        out = self.fc2(self.norm2(out))\n",
    "        return self.activation(out + residual)\n",
    "\n",
    "\n",
    "# Define a better model\n",
    "class FplModel(nn.Module):\n",
    "    def __init__(self, num_features, output_dim=1, hidden_dim=128, num_blocks=3, dropout=0.1):\n",
    "        super(FplModel, self).__init__()\n",
    "        self.input_layer = nn.Linear(num_features, hidden_dim)\n",
    "        self.blocks = nn.Sequential(*[\n",
    "            ResidualBlock(hidden_dim, dropout) for _ in range(num_blocks)\n",
    "        ])\n",
    "        self.output_layer = nn.Linear(hidden_dim, output_dim)\n",
    "\n",
    "    def forward(self, x):\n",
    "        x = self.input_layer(x)\n",
    "        x = self.blocks(x)\n",
    "        return self.output_layer(x)\n",
    "\n",
    "# Initialize the model, loss function, and optimizer\n",
    "model = FplModel(num_features, num_blocks=num_blocks)\n",
    "criterion = nn.MSELoss()  # Mean Squared Error loss for regression task\n",
    "optimizer = optim.AdamW(model.parameters(), lr=lr, weight_decay=weight_decay)"
   ]
  },
  {
   "cell_type": "code",
   "execution_count": null,
   "metadata": {
    "colab": {
     "base_uri": "https://localhost:8080/",
     "height": 562
    },
    "executionInfo": {
     "elapsed": 489393,
     "status": "ok",
     "timestamp": 1745362412299,
     "user": {
      "displayName": "tennis mr",
      "userId": "15671705000366569328"
     },
     "user_tz": 240
    },
    "id": "jR16wJsQogMZ",
    "outputId": "4d8322f6-bd78-4885-9d3a-d571d7bfcbc5"
   },
   "outputs": [],
   "source": [
    "# Training loop\n",
    "model.train()  # Set model to training mode\n",
    "for epoch in range(num_epochs):\n",
    "    running_loss = 0.0\n",
    "\n",
    "    for inputs_batch, targets_batch in dataloader:\n",
    "        # Forward pass\n",
    "        outputs = model(inputs_batch)\n",
    "        loss = criterion(outputs, targets_batch)\n",
    "\n",
    "        # Backward pass and optimization\n",
    "        optimizer.zero_grad()\n",
    "        loss.backward()\n",
    "        optimizer.step()\n",
    "\n",
    "        running_loss += loss.item()\n",
    "\n",
    "    avg_loss = running_loss / len(dataloader)\n",
    "    run.log({'avg_loss': avg_loss})\n",
    "    if (epoch+1) % 5 == 0:\n",
    "      print(f\"Epoch [{epoch+1}/{num_epochs}], Loss: {avg_loss:.4f}\")\n",
    "\n",
    "run.finish()"
   ]
  },
  {
   "cell_type": "code",
   "execution_count": null,
   "metadata": {
    "executionInfo": {
     "elapsed": 18,
     "status": "ok",
     "timestamp": 1745363161857,
     "user": {
      "displayName": "tennis mr",
      "userId": "15671705000366569328"
     },
     "user_tz": 240
    },
    "id": "1iWOuLOrrt6H"
   },
   "outputs": [],
   "source": [
    "# Save the trained model\n",
    "torch.save(model.state_dict(), 'models/residual-2.pth')"
   ]
  },
  {
   "cell_type": "code",
   "execution_count": null,
   "metadata": {
    "colab": {
     "base_uri": "https://localhost:8080/"
    },
    "executionInfo": {
     "elapsed": 5,
     "status": "ok",
     "timestamp": 1745364785810,
     "user": {
      "displayName": "tennis mr",
      "userId": "15671705000366569328"
     },
     "user_tz": 240
    },
    "id": "Y8788Zgb2QW1",
    "outputId": "d47f4054-b13d-47fb-fc40-8106bb7e030a"
   },
   "outputs": [],
   "source": [
    "model"
   ]
  },
  {
   "cell_type": "markdown",
   "metadata": {
    "id": "qN-sWu5n9-d6"
   },
   "source": [
    "# Model testing for KO"
   ]
  },
  {
   "cell_type": "code",
   "execution_count": null,
   "metadata": {
    "colab": {
     "base_uri": "https://localhost:8080/",
     "height": 443
    },
    "executionInfo": {
     "elapsed": 80,
     "status": "ok",
     "timestamp": 1744732795147,
     "user": {
      "displayName": "tennis mr",
      "userId": "15671705000366569328"
     },
     "user_tz": 240
    },
    "id": "q_Cg4kjr-A8L",
    "outputId": "e0ba4413-11dd-4b11-dafe-0c18e25c4ba6"
   },
   "outputs": [],
   "source": [
    "# Dropping unnecessary columns\n",
    "test_df = df22.drop([\"name\", \"team\", \"position\", \"fixture\", \"kickoff_time\", \"opponent_team\", \"round\", \"transfers_balance\"], axis=1)\n",
    "\n",
    "# Create a column for ground truth\n",
    "ground_truth = df22.loc[:, [\"element\", \"total_points\", \"GW\"]]\n",
    "\n",
    "# total points for GW 2 becomes the ground truth for GW 1\n",
    "ground_truth['GW'] -= 1\n",
    "ground_truth = ground_truth.rename(columns={\"total_points\":\"y\"})\n",
    "\n",
    "# inner join with train df\n",
    "test_df = test_df.merge(ground_truth, how=\"inner\", on=[\"element\", \"GW\"])\n",
    "\n",
    "# Dropping 'element' and 'gw' columns as they are no longer needed\n",
    "test_df = test_df.drop([\"element\"], axis=1)\n",
    "test_df"
   ]
  },
  {
   "cell_type": "code",
   "execution_count": null,
   "metadata": {
    "colab": {
     "base_uri": "https://localhost:8080/",
     "height": 443
    },
    "executionInfo": {
     "elapsed": 25,
     "status": "ok",
     "timestamp": 1744732797495,
     "user": {
      "displayName": "tennis mr",
      "userId": "15671705000366569328"
     },
     "user_tz": 240
    },
    "id": "MzItXhov-mVK",
    "outputId": "e3b1a76c-f1a5-478c-cf29-2a0201176736"
   },
   "outputs": [],
   "source": [
    "#Pre-processing\n",
    "\n",
    "# Dropping columns not present in API\n",
    "test_df = test_df.drop(['xP', 'selected', 'team_a_score', 'team_h_score', 'value', 'was_home'], axis=1)\n",
    "test_df = test_df.astype(np.float32)\n",
    "test_df"
   ]
  },
  {
   "cell_type": "code",
   "execution_count": null,
   "metadata": {
    "colab": {
     "base_uri": "https://localhost:8080/",
     "height": 443
    },
    "executionInfo": {
     "elapsed": 32,
     "status": "ok",
     "timestamp": 1744732830797,
     "user": {
      "displayName": "tennis mr",
      "userId": "15671705000366569328"
     },
     "user_tz": 240
    },
    "id": "zFgx8fdy-1-H",
    "outputId": "ea4acfe3-fef6-4600-f429-9d894a91ec2c"
   },
   "outputs": [],
   "source": [
    "# Keeping only required test columns\n",
    "stats = ['assists', 'bonus', 'bps', 'clean_sheets', 'creativity',\n",
    "       'goals_conceded', 'goals_scored', 'ict_index', 'influence', 'minutes',\n",
    "       'own_goals', 'penalties_missed', 'penalties_saved', 'red_cards',\n",
    "       'saves', 'threat', 'total_points', 'transfers_in', 'transfers_out',\n",
    "       'yellow_cards']\n",
    "\n",
    "test_df = test_df[stats + ['y', \"GW\"]]\n",
    "test_df"
   ]
  },
  {
   "cell_type": "code",
   "execution_count": null,
   "metadata": {
    "colab": {
     "base_uri": "https://localhost:8080/"
    },
    "executionInfo": {
     "elapsed": 21,
     "status": "ok",
     "timestamp": 1744732918607,
     "user": {
      "displayName": "tennis mr",
      "userId": "15671705000366569328"
     },
     "user_tz": 240
    },
    "id": "yX5jrpwp_oyk",
    "outputId": "9fc9bfc9-7ae2-48f1-d27f-5ae7b575b6e1"
   },
   "outputs": [],
   "source": [
    "# Load model\n",
    "num_features = 20\n",
    "model = FplModel(num_features)\n",
    "model.load_state_dict(torch.load('models/residual-1.pth'))\n",
    "model.eval()"
   ]
  },
  {
   "cell_type": "code",
   "execution_count": null,
   "metadata": {
    "colab": {
     "base_uri": "https://localhost:8080/",
     "height": 98
    },
    "executionInfo": {
     "elapsed": 3,
     "status": "ok",
     "timestamp": 1744730648418,
     "user": {
      "displayName": "tennis mr",
      "userId": "15671705000366569328"
     },
     "user_tz": 240
    },
    "id": "ZyVHqcMlBTZ4",
    "outputId": "b9825ac7-293e-475b-8c9a-620c7a7fee37"
   },
   "outputs": [],
   "source": [
    "test_df[test_df[\"GW\"] == 6]"
   ]
  },
  {
   "cell_type": "code",
   "execution_count": null,
   "metadata": {
    "id": "Zvt4CWyM_W2G"
   },
   "outputs": [],
   "source": [
    "# Get accuracy for testing df per gameweek\n",
    "loss_over_gameweeks = []\n",
    "for gw in range(1,38):\n",
    "  playerData = test_df.loc[test_df[\"GW\"] == gw, :].drop([\"GW\", \"y\"], axis=1).to_numpy()\n",
    "  playerData = torch.tensor(playerData, dtype=torch.float32)\n",
    "  with torch.no_grad():  # Disables gradient calculation for inference\n",
    "      predictions = model(playerData)\n",
    "  targets_batch = test_df.loc[test_df[\"GW\"] == gw, \"y\"].to_numpy().reshape(-1,1)\n",
    "  targets_batch = torch.tensor(targets_batch, dtype=torch.float32)\n",
    "  loss = criterion(predictions, targets_batch)\n",
    "  if loss.isnan():\n",
    "    loss_over_gameweeks.append(loss_over_gameweeks[-1])\n",
    "  else:\n",
    "    loss_over_gameweeks.append(loss.item())\n",
    "# loss_over_gameweeks"
   ]
  },
  {
   "cell_type": "code",
   "execution_count": null,
   "metadata": {
    "colab": {
     "base_uri": "https://localhost:8080/"
    },
    "executionInfo": {
     "elapsed": 49817,
     "status": "ok",
     "timestamp": 1744732893629,
     "user": {
      "displayName": "tennis mr",
      "userId": "15671705000366569328"
     },
     "user_tz": 240
    },
    "id": "iutPkIrKDk5Z",
    "outputId": "235f9c55-6479-4132-93f6-6b51b0f3977b"
   },
   "outputs": [],
   "source": [
    "# Get accuracy for testing df per gameweek, training at 10,20,30\n",
    "loss_over_gameweeks_3 = []\n",
    "train_at = [10,20,30]\n",
    "def get_prev(i):\n",
    "  if i == 10:\n",
    "    return 0\n",
    "  elif i == 20:\n",
    "    return 11\n",
    "  elif i == 30:\n",
    "    return 21\n",
    "  else:\n",
    "    assert False\n",
    "\n",
    "for gw in range(1,38):\n",
    "\n",
    "  if gw in train_at:\n",
    "    # Training loop\n",
    "    num_epochs = 10\n",
    "    # Convert data to PyTorch Dataset and DataLoader\n",
    "    inputs = test_df.loc[test_df[\"GW\"].isin(np.arange(get_prev(gw), gw)), :].drop(['y','GW'], axis=1).to_numpy()\n",
    "    print(inputs.shape)\n",
    "    num_features = inputs.shape[1]\n",
    "    # print(\"Num features\", num_features)\n",
    "    targets = test_df.loc[test_df[\"GW\"].isin(np.arange(get_prev(gw), gw)), \"y\"].to_numpy().reshape(-1,1)\n",
    "    dataset = FplDataset(inputs, targets)\n",
    "    dataloader = DataLoader(dataset, batch_size=16, shuffle=True)\n",
    "\n",
    "    # model = FplModel(num_features)\n",
    "    criterion = nn.MSELoss()  # Mean Squared Error loss for regression task\n",
    "    optimizer = optim.AdamW(model.parameters(), lr=lr, weight_decay=weight_decay)\n",
    "    for epoch in range(num_epochs):\n",
    "        model.train()  # Set model to training mode\n",
    "        running_loss = 0.0\n",
    "\n",
    "        for inputs_batch, targets_batch in dataloader:\n",
    "            # Forward pass\n",
    "            outputs = model(inputs_batch)\n",
    "            loss = criterion(outputs, targets_batch)\n",
    "\n",
    "            # Backward pass and optimization\n",
    "            optimizer.zero_grad()\n",
    "            loss.backward()\n",
    "            optimizer.step()\n",
    "\n",
    "            running_loss += loss.item()\n",
    "\n",
    "        avg_loss = running_loss / len(dataloader)\n",
    "    print(f\"model trained for {gw}\")\n",
    "    model.eval()\n",
    "        # run.log({'avg_loss': avg_loss})\n",
    "        # if (epoch+1) % 5 == 0:\n",
    "        #   print(f\"Epoch [{epoch+1}/{num_epochs}], Loss: {avg_loss:.4f}\")\n",
    "\n",
    "\n",
    "  playerData = test_df.loc[test_df[\"GW\"] == gw, :].drop([\"GW\", \"y\"], axis=1).to_numpy()\n",
    "  playerData = torch.tensor(playerData, dtype=torch.float32)\n",
    "  with torch.no_grad():  # Disables gradient calculation for inference\n",
    "      predictions = model(playerData)\n",
    "  targets_batch = test_df.loc[test_df[\"GW\"] == gw, \"y\"].to_numpy().reshape(-1,1)\n",
    "  targets_batch = torch.tensor(targets_batch, dtype=torch.float32)\n",
    "  loss = criterion(predictions, targets_batch)\n",
    "  if loss.isnan():\n",
    "    loss_over_gameweeks_3.append(loss_over_gameweeks_3[-1])\n",
    "  else:\n",
    "    loss_over_gameweeks_3.append(loss.item())\n",
    "# loss_over_gameweeks"
   ]
  },
  {
   "cell_type": "code",
   "execution_count": null,
   "metadata": {
    "colab": {
     "base_uri": "https://localhost:8080/"
    },
    "executionInfo": {
     "elapsed": 57820,
     "status": "ok",
     "timestamp": 1744732984818,
     "user": {
      "displayName": "tennis mr",
      "userId": "15671705000366569328"
     },
     "user_tz": 240
    },
    "id": "Xijg9tSoJf1I",
    "outputId": "32ec7782-0807-489b-db95-9edfc77f3b93"
   },
   "outputs": [],
   "source": [
    "# Get accuracy for testing df per gameweek, training at 10,20,30\n",
    "loss_over_gameweeks_5 = []\n",
    "train_at = [7,14,21,28,35]\n",
    "def get_prev(i):\n",
    "  if i == 7:\n",
    "    return 0\n",
    "  elif i == 14:\n",
    "    return 8\n",
    "  elif i == 21:\n",
    "    return 15\n",
    "  elif i == 28:\n",
    "    return 22\n",
    "  elif i == 35:\n",
    "    return 29\n",
    "  else:\n",
    "    assert False\n",
    "\n",
    "for gw in range(1,38):\n",
    "\n",
    "  if gw in train_at:\n",
    "    # Training loop\n",
    "    num_epochs = 10\n",
    "    # Convert data to PyTorch Dataset and DataLoader\n",
    "    inputs = test_df.loc[test_df[\"GW\"].isin(np.arange(get_prev(gw), gw)), :].drop(['y','GW'], axis=1).to_numpy()\n",
    "    print(inputs.shape)\n",
    "    num_features = inputs.shape[1]\n",
    "    # print(\"Num features\", num_features)\n",
    "    targets = test_df.loc[test_df[\"GW\"].isin(np.arange(get_prev(gw), gw)), \"y\"].to_numpy().reshape(-1,1)\n",
    "    dataset = FplDataset(inputs, targets)\n",
    "    dataloader = DataLoader(dataset, batch_size=16, shuffle=True)\n",
    "\n",
    "    # model = FplModel(num_features)\n",
    "    criterion = nn.MSELoss()  # Mean Squared Error loss for regression task\n",
    "    optimizer = optim.AdamW(model.parameters(), lr=lr, weight_decay=weight_decay)\n",
    "    for epoch in range(num_epochs):\n",
    "        model.train()  # Set model to training mode\n",
    "        running_loss = 0.0\n",
    "\n",
    "        for inputs_batch, targets_batch in dataloader:\n",
    "            # Forward pass\n",
    "            outputs = model(inputs_batch)\n",
    "            loss = criterion(outputs, targets_batch)\n",
    "\n",
    "            # Backward pass and optimization\n",
    "            optimizer.zero_grad()\n",
    "            loss.backward()\n",
    "            optimizer.step()\n",
    "\n",
    "            running_loss += loss.item()\n",
    "\n",
    "        avg_loss = running_loss / len(dataloader)\n",
    "    print(f\"model trained for {gw}\")\n",
    "    model.eval()\n",
    "        # run.log({'avg_loss': avg_loss})\n",
    "        # if (epoch+1) % 5 == 0:\n",
    "        #   print(f\"Epoch [{epoch+1}/{num_epochs}], Loss: {avg_loss:.4f}\")\n",
    "\n",
    "\n",
    "  playerData = test_df.loc[test_df[\"GW\"] == gw, :].drop([\"GW\", \"y\"], axis=1).to_numpy()\n",
    "  playerData = torch.tensor(playerData, dtype=torch.float32)\n",
    "  with torch.no_grad():  # Disables gradient calculation for inference\n",
    "      predictions = model(playerData)\n",
    "  targets_batch = test_df.loc[test_df[\"GW\"] == gw, \"y\"].to_numpy().reshape(-1,1)\n",
    "  targets_batch = torch.tensor(targets_batch, dtype=torch.float32)\n",
    "  loss = criterion(predictions, targets_batch)\n",
    "  if loss.isnan():\n",
    "    loss_over_gameweeks_5.append(loss_over_gameweeks_5[-1])\n",
    "  else:\n",
    "    loss_over_gameweeks_5.append(loss.item())\n",
    "# loss_over_gameweeks"
   ]
  },
  {
   "cell_type": "code",
   "execution_count": null,
   "metadata": {
    "colab": {
     "base_uri": "https://localhost:8080/",
     "height": 472
    },
    "executionInfo": {
     "elapsed": 219,
     "status": "ok",
     "timestamp": 1744733510613,
     "user": {
      "displayName": "tennis mr",
      "userId": "15671705000366569328"
     },
     "user_tz": 240
    },
    "id": "wVYuvsnqCzAa",
    "outputId": "759570b7-a806-4513-ee11-39713c52e153"
   },
   "outputs": [],
   "source": [
    "import matplotlib.pyplot as plt\n",
    "\n",
    "# Example data\n",
    "list1 = loss_over_gameweeks\n",
    "list2 = loss_over_gameweeks_3\n",
    "list3 = loss_over_gameweeks_5\n",
    "# list2 = list3\n",
    "\n",
    "# Plot each list\n",
    "plt.plot(list1, label='No re-training')\n",
    "plt.plot(list2, label='10,20,30')\n",
    "plt.plot(list3, label='7,14,21,28,35')\n",
    "\n",
    "# Plot times of re-training\n",
    "plt.scatter([10,20,30], [list2[i] for i in [10,20,30]], color='orange', marker='x')\n",
    "plt.scatter([7,14,21,28,35], [list3[i] for i in [7,14,21,28,35]], color='green', marker='x')\n",
    "\n",
    "# Add labels and legend\n",
    "plt.xlabel('Gameweek')\n",
    "plt.ylabel('Loss')\n",
    "plt.title('Model fine-tuning at different intervals')\n",
    "plt.legend()\n",
    "\n",
    "# Show the plot\n",
    "plt.show()"
   ]
  },
  {
   "cell_type": "code",
   "execution_count": null,
   "metadata": {
    "colab": {
     "base_uri": "https://localhost:8080/"
    },
    "executionInfo": {
     "elapsed": 13,
     "status": "ok",
     "timestamp": 1744733822661,
     "user": {
      "displayName": "tennis mr",
      "userId": "15671705000366569328"
     },
     "user_tz": 240
    },
    "id": "J3J4St0HO3p1",
    "outputId": "871fd1ae-9670-4224-8f23-42c0c5890b6b"
   },
   "outputs": [],
   "source": [
    "print(\"Average loss for no re-training: \", np.mean(loss_over_gameweeks).round(3))\n",
    "print(\"Average loss for 10,20,30: \", np.mean(loss_over_gameweeks_3).round(3))\n",
    "print(\"Average loss for 7,14,21,28,35: \", np.mean(loss_over_gameweeks_5).round(3))"
   ]
  },
  {
   "cell_type": "markdown",
   "metadata": {
    "id": "_3wRCfHkOShK"
   },
   "source": [
    "# Actual re-training at different intervals"
   ]
  },
  {
   "cell_type": "code",
   "execution_count": null,
   "metadata": {
    "colab": {
     "base_uri": "https://localhost:8080/",
     "height": 443
    },
    "executionInfo": {
     "elapsed": 45,
     "status": "ok",
     "timestamp": 1744734026198,
     "user": {
      "displayName": "tennis mr",
      "userId": "15671705000366569328"
     },
     "user_tz": 240
    },
    "id": "wAg0AT8EQG5T",
    "outputId": "cee4ae16-80df-4b10-af1e-1e724f51245d"
   },
   "outputs": [],
   "source": [
    "# Dropping unnecessary columns\n",
    "test_df = df22.drop([\"name\", \"team\", \"position\", \"fixture\", \"kickoff_time\", \"opponent_team\", \"round\", \"transfers_balance\"], axis=1)\n",
    "\n",
    "# Create a column for ground truth\n",
    "ground_truth = df22.loc[:, [\"element\", \"total_points\", \"GW\"]]\n",
    "\n",
    "# total points for GW 2 becomes the ground truth for GW 1\n",
    "ground_truth['GW'] -= 1\n",
    "ground_truth = ground_truth.rename(columns={\"total_points\":\"y\"})\n",
    "\n",
    "# inner join with train df\n",
    "test_df = test_df.merge(ground_truth, how=\"inner\", on=[\"element\", \"GW\"])\n",
    "\n",
    "# Dropping 'element' and 'gw' columns as they are no longer needed\n",
    "test_df = test_df.drop([\"element\"], axis=1)\n",
    "test_df"
   ]
  },
  {
   "cell_type": "code",
   "execution_count": null,
   "metadata": {
    "colab": {
     "base_uri": "https://localhost:8080/",
     "height": 443
    },
    "executionInfo": {
     "elapsed": 193,
     "status": "ok",
     "timestamp": 1744734042761,
     "user": {
      "displayName": "tennis mr",
      "userId": "15671705000366569328"
     },
     "user_tz": 240
    },
    "id": "6TUz2Ju-QLD-",
    "outputId": "e8f188d8-6ec3-4a6d-8cc3-80f58f5109a8"
   },
   "outputs": [],
   "source": [
    "#Pre-processing\n",
    "\n",
    "# Dropping columns not present in API\n",
    "test_df = test_df.drop(['xP', 'selected', 'team_a_score', 'team_h_score', 'value', 'was_home'], axis=1)\n",
    "test_df = test_df.astype(np.float32)\n",
    "test_df"
   ]
  },
  {
   "cell_type": "code",
   "execution_count": null,
   "metadata": {
    "colab": {
     "base_uri": "https://localhost:8080/",
     "height": 443
    },
    "executionInfo": {
     "elapsed": 31,
     "status": "ok",
     "timestamp": 1744734062829,
     "user": {
      "displayName": "tennis mr",
      "userId": "15671705000366569328"
     },
     "user_tz": 240
    },
    "id": "fWP0C6CUQPof",
    "outputId": "4d86b5a7-7e7e-4915-cb0b-656f34ff9756"
   },
   "outputs": [],
   "source": [
    "# Keeping only required test columns\n",
    "stats = ['assists', 'bonus', 'bps', 'clean_sheets', 'creativity',\n",
    "       'goals_conceded', 'goals_scored', 'ict_index', 'influence', 'minutes',\n",
    "       'own_goals', 'penalties_missed', 'penalties_saved', 'red_cards',\n",
    "       'saves', 'threat', 'total_points', 'transfers_in', 'transfers_out',\n",
    "       'yellow_cards']\n",
    "\n",
    "test_df = test_df[stats + ['y', \"GW\"]]\n",
    "test_df"
   ]
  },
  {
   "cell_type": "code",
   "execution_count": null,
   "metadata": {
    "colab": {
     "base_uri": "https://localhost:8080/"
    },
    "executionInfo": {
     "elapsed": 21,
     "status": "ok",
     "timestamp": 1744734085249,
     "user": {
      "displayName": "tennis mr",
      "userId": "15671705000366569328"
     },
     "user_tz": 240
    },
    "id": "-4aGFiUMQVhU",
    "outputId": "492aed56-4c2c-4b30-9ee0-947af83bf916"
   },
   "outputs": [],
   "source": [
    "# Load model\n",
    "num_features = 20\n",
    "model = FplModel(num_features)\n",
    "model.load_state_dict(torch.load('models/residual-1.pth'))\n",
    "model.eval()"
   ]
  },
  {
   "cell_type": "code",
   "execution_count": null,
   "metadata": {
    "id": "IDJSja0IQcg6"
   },
   "outputs": [],
   "source": [
    "# Get accuracy for testing df per gameweek\n",
    "loss_over_gameweeks = []\n",
    "for gw in range(1,38):\n",
    "  playerData = test_df.loc[test_df[\"GW\"] == gw, :].drop([\"GW\", \"y\"], axis=1).to_numpy()\n",
    "  playerData = torch.tensor(playerData, dtype=torch.float32)\n",
    "  with torch.no_grad():  # Disables gradient calculation for inference\n",
    "      predictions = model(playerData)\n",
    "  targets_batch = test_df.loc[test_df[\"GW\"] == gw, \"y\"].to_numpy().reshape(-1,1)\n",
    "  targets_batch = torch.tensor(targets_batch, dtype=torch.float32)\n",
    "  loss = criterion(predictions, targets_batch)\n",
    "  if loss.isnan():\n",
    "    loss_over_gameweeks.append(loss_over_gameweeks[-1])\n",
    "  else:\n",
    "    loss_over_gameweeks.append(loss.item())\n",
    "# loss_over_gameweeks"
   ]
  },
  {
   "cell_type": "code",
   "execution_count": null,
   "metadata": {
    "colab": {
     "base_uri": "https://localhost:8080/"
    },
    "executionInfo": {
     "elapsed": 465042,
     "status": "ok",
     "timestamp": 1744735031519,
     "user": {
      "displayName": "tennis mr",
      "userId": "15671705000366569328"
     },
     "user_tz": 240
    },
    "id": "ypoR5bQjQinH",
    "outputId": "ebe0b2d0-e152-434c-d545-2bfe99f2a2e7"
   },
   "outputs": [],
   "source": [
    "# Get accuracy for testing df per gameweek, training at 10,20,30\n",
    "loss_over_gameweeks_3 = []\n",
    "train_at = [10,20,30]\n",
    "def get_prev(i):\n",
    "  if i == 10:\n",
    "    return 0\n",
    "  elif i == 20:\n",
    "    return 11\n",
    "  elif i == 30:\n",
    "    return 21\n",
    "  else:\n",
    "    assert False\n",
    "\n",
    "for gw in range(1,38):\n",
    "\n",
    "  if gw in train_at:\n",
    "    # Training loop\n",
    "    model = FplModel(num_features)\n",
    "    # model.load_state_dict(torch.load('/content/drive/MyDrive/cs6365/residual-1.pth'))\n",
    "    model.train()\n",
    "    num_epochs = 50\n",
    "    # Convert data to PyTorch Dataset and DataLoader\n",
    "    inputs = test_df.loc[test_df[\"GW\"] < gw, :].drop(['y','GW'], axis=1).to_numpy()\n",
    "    print(inputs.shape)\n",
    "    num_features = inputs.shape[1]\n",
    "    # print(\"Num features\", num_features)\n",
    "    targets = test_df.loc[test_df[\"GW\"] < gw, \"y\"].to_numpy().reshape(-1,1)\n",
    "    dataset = FplDataset(inputs, targets)\n",
    "    dataloader = DataLoader(dataset, batch_size=16, shuffle=True)\n",
    "\n",
    "    # model = FplModel(num_features)\n",
    "    criterion = nn.MSELoss()  # Mean Squared Error loss for regression task\n",
    "    optimizer = optim.AdamW(model.parameters(), lr=lr, weight_decay=weight_decay)\n",
    "    for epoch in range(num_epochs):\n",
    "        model.train()  # Set model to training mode\n",
    "        running_loss = 0.0\n",
    "\n",
    "        for inputs_batch, targets_batch in dataloader:\n",
    "            # Forward pass\n",
    "            outputs = model(inputs_batch)\n",
    "            loss = criterion(outputs, targets_batch)\n",
    "\n",
    "            # Backward pass and optimization\n",
    "            optimizer.zero_grad()\n",
    "            loss.backward()\n",
    "            optimizer.step()\n",
    "\n",
    "            running_loss += loss.item()\n",
    "\n",
    "        avg_loss = running_loss / len(dataloader)\n",
    "    print(f\"model trained for {gw}\")\n",
    "    model.eval()\n",
    "        # run.log({'avg_loss': avg_loss})\n",
    "        # if (epoch+1) % 5 == 0:\n",
    "        #   print(f\"Epoch [{epoch+1}/{num_epochs}], Loss: {avg_loss:.4f}\")\n",
    "\n",
    "\n",
    "  playerData = test_df.loc[test_df[\"GW\"] == gw, :].drop([\"GW\", \"y\"], axis=1).to_numpy()\n",
    "  playerData = torch.tensor(playerData, dtype=torch.float32)\n",
    "  with torch.no_grad():  # Disables gradient calculation for inference\n",
    "      predictions = model(playerData)\n",
    "  targets_batch = test_df.loc[test_df[\"GW\"] == gw, \"y\"].to_numpy().reshape(-1,1)\n",
    "  targets_batch = torch.tensor(targets_batch, dtype=torch.float32)\n",
    "  loss = criterion(predictions, targets_batch)\n",
    "  if loss.isnan():\n",
    "    loss_over_gameweeks_3.append(loss_over_gameweeks_3[-1])\n",
    "  else:\n",
    "    loss_over_gameweeks_3.append(loss.item())\n",
    "# loss_over_gameweeks"
   ]
  },
  {
   "cell_type": "code",
   "execution_count": null,
   "metadata": {
    "colab": {
     "base_uri": "https://localhost:8080/",
     "height": 472
    },
    "executionInfo": {
     "elapsed": 347,
     "status": "ok",
     "timestamp": 1744735201812,
     "user": {
      "displayName": "tennis mr",
      "userId": "15671705000366569328"
     },
     "user_tz": 240
    },
    "id": "QwJFfOHGUC6j",
    "outputId": "0aeeddc4-b336-478c-faf6-440d0e5365ce"
   },
   "outputs": [],
   "source": [
    "import matplotlib.pyplot as plt\n",
    "\n",
    "# Example data\n",
    "list1 = loss_over_gameweeks\n",
    "list2 = loss_over_gameweeks_3\n",
    "# list3 = loss_over_gameweeks_5\n",
    "# list2 = list3\n",
    "\n",
    "# Plot each list\n",
    "plt.plot(list1, label='No re-training')\n",
    "plt.plot(list2, label='10,20,30')\n",
    "# plt.plot(list3, label='7,14,21,28,35')\n",
    "\n",
    "# Plot times of re-training\n",
    "plt.scatter([10,20,30], [list2[i] for i in [10,20,30]], color='orange', marker='x')\n",
    "# plt.scatter([7,14,21,28,35], [list3[i] for i in [7,14,21,28,35]], color='green', marker='x')\n",
    "\n",
    "# Add labels and legend\n",
    "plt.xlabel('Gameweek')\n",
    "plt.ylabel('Loss')\n",
    "plt.title('Full re-training at different points')\n",
    "plt.legend()\n",
    "\n",
    "# Show the plot\n",
    "plt.show()"
   ]
  },
  {
   "cell_type": "code",
   "execution_count": null,
   "metadata": {
    "colab": {
     "base_uri": "https://localhost:8080/"
    },
    "executionInfo": {
     "elapsed": 3,
     "status": "ok",
     "timestamp": 1744735298882,
     "user": {
      "displayName": "tennis mr",
      "userId": "15671705000366569328"
     },
     "user_tz": 240
    },
    "id": "KXt6stARU8mH",
    "outputId": "31a9abbe-bea4-496a-ad3f-7a0a7ee603c1"
   },
   "outputs": [],
   "source": [
    "print(\"Average loss for no re-training: \", np.mean(loss_over_gameweeks).round(3))\n",
    "print(\"Average loss for 10,20,30: \", np.mean(loss_over_gameweeks_3).round(3))\n",
    "# print(\"Average loss for 7,14,21,28,35: \", np.mean(loss_over_gameweeks_5).round(3))"
   ]
  }
 ],
 "metadata": {
  "colab": {
   "authorship_tag": "ABX9TyP+8HHzqNes0iOmK7gXem8d",
   "provenance": []
  },
  "kernelspec": {
   "display_name": "Python 3",
   "name": "python3"
  },
  "language_info": {
   "name": "python"
  }
 },
 "nbformat": 4,
 "nbformat_minor": 0
}
